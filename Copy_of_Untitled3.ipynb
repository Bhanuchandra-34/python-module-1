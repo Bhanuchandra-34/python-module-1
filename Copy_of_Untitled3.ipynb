{
  "nbformat": 4,
  "nbformat_minor": 0,
  "metadata": {
    "colab": {
      "name": "Copy of Untitled3.ipynb",
      "provenance": [],
      "include_colab_link": true
    },
    "kernelspec": {
      "name": "python3",
      "display_name": "Python 3"
    }
  },
  "cells": [
    {
      "cell_type": "markdown",
      "metadata": {
        "id": "view-in-github",
        "colab_type": "text"
      },
      "source": [
        "<a href=\"https://colab.research.google.com/github/Bhanuchandra-34/python-module-1/blob/master/Copy_of_Untitled3.ipynb\" target=\"_parent\"><img src=\"https://colab.research.google.com/assets/colab-badge.svg\" alt=\"Open In Colab\"/></a>"
      ]
    },
    {
      "cell_type": "code",
      "metadata": {
        "id": "Y5dXih_cgsA2",
        "colab_type": "code",
        "colab": {}
      },
      "source": [
        "Question no.1\n",
        "Simple calculator"
      ],
      "execution_count": null,
      "outputs": []
    },
    {
      "cell_type": "code",
      "metadata": {
        "id": "EbLzYtkMiRWT",
        "colab_type": "code",
        "colab": {
          "base_uri": "https://localhost:8080/",
          "height": 68
        },
        "outputId": "d0872587-5221-4a58-d1a3-3429ce5de457"
      },
      "source": [
        " a=int(input('enter value of a:'))\n",
        "b=int(input('enter value of b'))\n",
        "print('sum of a and b is',a+b)"
      ],
      "execution_count": null,
      "outputs": [
        {
          "output_type": "stream",
          "text": [
            "enter value of a:5\n",
            "enter value of b5\n",
            "sum of a and b is 10\n"
          ],
          "name": "stdout"
        }
      ]
    },
    {
      "cell_type": "code",
      "metadata": {
        "id": "gkr285CUkdsU",
        "colab_type": "code",
        "colab": {
          "base_uri": "https://localhost:8080/",
          "height": 68
        },
        "outputId": "b550669b-2454-4293-e5dd-aac36a899fba"
      },
      "source": [
        " a=int(input('enter value of a:'))\n",
        "b=int(input('enter value of b'))\n",
        "print('product of a and b is',a*b)"
      ],
      "execution_count": null,
      "outputs": [
        {
          "output_type": "stream",
          "text": [
            "enter value of a:4\n",
            "enter value of b4\n",
            "product of a and b is 16\n"
          ],
          "name": "stdout"
        }
      ]
    },
    {
      "cell_type": "code",
      "metadata": {
        "id": "hIdZaiYkkxEy",
        "colab_type": "code",
        "colab": {
          "base_uri": "https://localhost:8080/",
          "height": 68
        },
        "outputId": "924dd221-29c5-4103-b66d-26a78b34783b"
      },
      "source": [
        " a=int(input('enter value of a:'))\n",
        "b=int(input('enter value of b'))\n",
        "print('difference of a and b is',a-b)"
      ],
      "execution_count": null,
      "outputs": [
        {
          "output_type": "stream",
          "text": [
            "enter value of a:10\n",
            "enter value of b5\n",
            "difference of a and b is 5\n"
          ],
          "name": "stdout"
        }
      ]
    },
    {
      "cell_type": "code",
      "metadata": {
        "id": "GcT7_CS5lPJv",
        "colab_type": "code",
        "colab": {
          "base_uri": "https://localhost:8080/",
          "height": 68
        },
        "outputId": "b3c6e604-457b-4249-d89f-427a6e6fa1ce"
      },
      "source": [
        " a=int(input('enter value of a:'))\n",
        "b=int(input('enter value of b:'))\n",
        "print('cofficentof a and b is',a/b)"
      ],
      "execution_count": null,
      "outputs": [
        {
          "output_type": "stream",
          "text": [
            "enter value of a:8\n",
            "enter value of b:2\n",
            "cofficentof a and b is 4.0\n"
          ],
          "name": "stdout"
        }
      ]
    },
    {
      "cell_type": "code",
      "metadata": {
        "id": "OpcbYbOplt-5",
        "colab_type": "code",
        "colab": {
          "base_uri": "https://localhost:8080/",
          "height": 68
        },
        "outputId": "33c996ab-1eef-4b47-bf6c-97e985df2f15"
      },
      "source": [
        " a=int(input('enter value of a:'))\n",
        "b=int(input('enter value of b'))\n",
        "print('reminder of a and b is',a%b)"
      ],
      "execution_count": null,
      "outputs": [
        {
          "output_type": "stream",
          "text": [
            "enter value of a:8\n",
            "enter value of b6\n",
            "reminder of a and b is 2\n"
          ],
          "name": "stdout"
        }
      ]
    },
    {
      "cell_type": "code",
      "metadata": {
        "id": "xmcSiVPYmFKJ",
        "colab_type": "code",
        "colab": {
          "base_uri": "https://localhost:8080/",
          "height": 68
        },
        "outputId": "feea738e-5cd7-4f45-b916-77cd29c80214"
      },
      "source": [
        " a=int(input('enter value of a:'))\n",
        "b=int(input('enter value of b'))\n",
        "print(' a power b is',a**b)"
      ],
      "execution_count": null,
      "outputs": [
        {
          "output_type": "stream",
          "text": [
            "enter value of a:4\n",
            "enter value of b2\n",
            " a power b is 16\n"
          ],
          "name": "stdout"
        }
      ]
    },
    {
      "cell_type": "code",
      "metadata": {
        "id": "lAC1Q9FxmYoy",
        "colab_type": "code",
        "colab": {
          "base_uri": "https://localhost:8080/",
          "height": 68
        },
        "outputId": "b9ae216d-96fe-4f8f-9d6c-1490c1b4f1f8"
      },
      "source": [
        " a=int(input('enter value of a:'))\n",
        "b=int(input('enter value of b'))\n",
        "print('floor division is',a//b)"
      ],
      "execution_count": null,
      "outputs": [
        {
          "output_type": "stream",
          "text": [
            "enter value of a:10\n",
            "enter value of b2\n",
            "floor division is 5\n"
          ],
          "name": "stdout"
        }
      ]
    },
    {
      "cell_type": "code",
      "metadata": {
        "id": "-kjVrbJNmhW2",
        "colab_type": "code",
        "colab": {}
      },
      "source": [
        "Question no.2\n",
        "calculate simple intrest"
      ],
      "execution_count": null,
      "outputs": []
    },
    {
      "cell_type": "code",
      "metadata": {
        "id": "kov5Ap4dnZkr",
        "colab_type": "code",
        "colab": {
          "base_uri": "https://localhost:8080/",
          "height": 85
        },
        "outputId": "a697ae2e-593d-4fa9-e4e5-e97d44ecde9c"
      },
      "source": [
        "P=int(input('enter value of P:'))\n",
        "T=int(input('enter value of T:'))\n",
        "R=int(input('enter value of R:'))\n",
        "print('simple intrest is:',((P*T*R)/100))"
      ],
      "execution_count": null,
      "outputs": [
        {
          "output_type": "stream",
          "text": [
            "enter value of P:10\n",
            "enter value of T:20\n",
            "enter value of R:30\n",
            "simple intrest is: 60.0\n"
          ],
          "name": "stdout"
        }
      ]
    },
    {
      "cell_type": "code",
      "metadata": {
        "id": "0qpZFwTBoiLu",
        "colab_type": "code",
        "colab": {}
      },
      "source": [
        "Question no.3\n",
        "calculate area of circle"
      ],
      "execution_count": null,
      "outputs": []
    },
    {
      "cell_type": "code",
      "metadata": {
        "id": "OgYkQd3nozgJ",
        "colab_type": "code",
        "colab": {
          "base_uri": "https://localhost:8080/",
          "height": 51
        },
        "outputId": "6803ac9d-f9d5-42e1-c63a-9f31e94043be"
      },
      "source": [
        " r=int(input('enter value of radius'))\n",
        "print('area of circle is:',(3.14*r*r))"
      ],
      "execution_count": null,
      "outputs": [
        {
          "output_type": "stream",
          "text": [
            "enter value of radius10\n",
            "area of circle is: 314.0\n"
          ],
          "name": "stdout"
        }
      ]
    },
    {
      "cell_type": "code",
      "metadata": {
        "id": "OyDUUFexo8_P",
        "colab_type": "code",
        "colab": {}
      },
      "source": [
        "Question no.4\n",
        "calculate area of triangle"
      ],
      "execution_count": null,
      "outputs": []
    },
    {
      "cell_type": "code",
      "metadata": {
        "id": "UlxnRktApEy4",
        "colab_type": "code",
        "colab": {
          "base_uri": "https://localhost:8080/",
          "height": 34
        },
        "outputId": "693752db-b3ae-40b2-eae3-585be756a0f2"
      },
      "source": [
        " S1=2\n",
        "S2=3\n",
        "S3=3\n",
        "print('area of triangle:',(S1*S2*S3))"
      ],
      "execution_count": null,
      "outputs": [
        {
          "output_type": "stream",
          "text": [
            "area of triangle: 18\n"
          ],
          "name": "stdout"
        }
      ]
    },
    {
      "cell_type": "code",
      "metadata": {
        "id": "myOG4GiJpOb8",
        "colab_type": "code",
        "colab": {}
      },
      "source": [
        " Question no.5\n",
        "convert temperature in celsius to fahrenheit"
      ],
      "execution_count": null,
      "outputs": []
    },
    {
      "cell_type": "code",
      "metadata": {
        "id": "m6v_AR8RpVbz",
        "colab_type": "code",
        "colab": {
          "base_uri": "https://localhost:8080/",
          "height": 34
        },
        "outputId": "af3eca6f-456f-43a7-cdcc-9fe4cd1fe663"
      },
      "source": [
        " c=37\n",
        "print('temperature in fahrenheit is:',(1.68))"
      ],
      "execution_count": null,
      "outputs": [
        {
          "output_type": "stream",
          "text": [
            "temperature in fahrenheit is: 1.68\n"
          ],
          "name": "stdout"
        }
      ]
    },
    {
      "cell_type": "code",
      "metadata": {
        "id": "QmcqIx9ApgXT",
        "colab_type": "code",
        "colab": {}
      },
      "source": [
        " Question no.6\n",
        "calculate area of rectangle"
      ],
      "execution_count": null,
      "outputs": []
    },
    {
      "cell_type": "code",
      "metadata": {
        "id": "QYcDR-9vpkIZ",
        "colab_type": "code",
        "colab": {
          "base_uri": "https://localhost:8080/",
          "height": 34
        },
        "outputId": "24a9a041-56d3-49a9-b871-640b5db98ae3"
      },
      "source": [
        " l=5\n",
        "b=5\n",
        "print('area of rectangle:',(l*b))"
      ],
      "execution_count": null,
      "outputs": [
        {
          "output_type": "stream",
          "text": [
            "area of rectangle: 25\n"
          ],
          "name": "stdout"
        }
      ]
    },
    {
      "cell_type": "code",
      "metadata": {
        "id": "U0FbM2pKpoYf",
        "colab_type": "code",
        "colab": {}
      },
      "source": [
        " Question no.7\n",
        "calculate circumference of circle"
      ],
      "execution_count": null,
      "outputs": []
    },
    {
      "cell_type": "code",
      "metadata": {
        "id": "8SD-upe6pwW7",
        "colab_type": "code",
        "colab": {
          "base_uri": "https://localhost:8080/",
          "height": 71
        },
        "outputId": "8fa6e01d-6e13-49d0-c88b-69b6d64e15b8"
      },
      "source": [
        " r=int(input('value of radius:'))\n",
        "print('circumference of circle:',2*3.14*r)"
      ],
      "execution_count": null,
      "outputs": [
        {
          "output_type": "stream",
          "text": [
            "value of radius:10\n",
            "circumference of circle: 62.800000000000004\n"
          ],
          "name": "stdout"
        }
      ]
    },
    {
      "cell_type": "code",
      "metadata": {
        "id": "TqzDBzo2p4KI",
        "colab_type": "code",
        "colab": {}
      },
      "source": [
        " Question no.8\n",
        "calculate perimeter of square"
      ],
      "execution_count": null,
      "outputs": []
    },
    {
      "cell_type": "code",
      "metadata": {
        "id": "Mqy11vmWp_i8",
        "colab_type": "code",
        "colab": {
          "base_uri": "https://localhost:8080/",
          "height": 34
        },
        "outputId": "a734ca86-e634-4fa3-9f19-b84bcbe60037"
      },
      "source": [
        " Side=2\n",
        "print('perimeter of square:',(4*Side))"
      ],
      "execution_count": null,
      "outputs": [
        {
          "output_type": "stream",
          "text": [
            "perimeter of square: 8\n"
          ],
          "name": "stdout"
        }
      ]
    },
    {
      "cell_type": "code",
      "metadata": {
        "id": "1MGde0oCqJp2",
        "colab_type": "code",
        "colab": {}
      },
      "source": [
        " Question no.9\n",
        "swap of two numbers"
      ],
      "execution_count": null,
      "outputs": []
    },
    {
      "cell_type": "code",
      "metadata": {
        "id": "egGrWJthqMb5",
        "colab_type": "code",
        "colab": {
          "base_uri": "https://localhost:8080/",
          "height": 51
        },
        "outputId": "afd53b54-eff2-43d8-ae5c-fad5ffe8a30e"
      },
      "source": [
        " a=5\n",
        "b=10\n",
        "a=a+b\n",
        "b=a-b\n",
        "b=a-b\n",
        "print('value of a after swapping:',a)\n",
        "print('value of b after swapping:',b)"
      ],
      "execution_count": null,
      "outputs": [
        {
          "output_type": "stream",
          "text": [
            "value of a after swapping: 15\n",
            "value of b after swapping: 10\n"
          ],
          "name": "stdout"
        }
      ]
    }
  ]
}